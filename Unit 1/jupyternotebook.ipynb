{
 "metadata": {
  "language_info": {
   "codemirror_mode": {
    "name": "ipython",
    "version": 3
   },
   "file_extension": ".py",
   "mimetype": "text/x-python",
   "name": "python",
   "nbconvert_exporter": "python",
   "pygments_lexer": "ipython3",
   "version": "3.7.1-final"
  },
  "orig_nbformat": 2,
  "kernelspec": {
   "name": "python_defaultSpec_1598241272447",
   "display_name": "Python 3.7.1 32-bit"
  }
 },
 "nbformat": 4,
 "nbformat_minor": 2,
 "cells": [
  {
   "cell_type": "code",
   "execution_count": 8,
   "metadata": {
    "tags": []
   },
   "outputs": [
    {
     "output_type": "stream",
     "name": "stdout",
     "text": "Invalid input\n"
    }
   ],
   "source": [
    "try:\n",
    "    num = int(input(\"Enter any number : \"))\n",
    "    print(\"You entered \" + str(num))\n",
    "except:\n",
    "    print(\"Invalid input, please try again\")\n"
   ]
  },
  {
   "cell_type": "code",
   "execution_count": 13,
   "metadata": {
    "tags": []
   },
   "outputs": [
    {
     "output_type": "stream",
     "name": "stdout",
     "text": "Answer is  2.0\n"
    }
   ],
   "source": [
    "try:\n",
    "    num1 = int(input(\"Enter any number : \"))\n",
    "    num2 = int(input(\"Enter any number : \"))\n",
    "    num3 = num1 / num2\n",
    "    print(\"Answer is \",num3)\n",
    "except ValueError:\n",
    "    print(\"Invalid input\")\n",
    "except ZeroDivisionError:\n",
    "    print(\"Second value can not be zero\")\n",
    "except:\n",
    "    print(\"Other error\")\n"
   ]
  },
  {
   "cell_type": "code",
   "execution_count": 1,
   "metadata": {
    "tags": []
   },
   "outputs": [
    {
     "output_type": "stream",
     "name": "stdout",
     "text": "10 1\n5 25\n10 1\n"
    }
   ],
   "source": [
    "def myfunction():\n",
    "    a = 10 # global\n",
    "    s = 1 # global\n",
    "    def myfunction1():\n",
    "        global a\n",
    "        global s\n",
    "        a = 5\n",
    "        s = a * a\n",
    "        print(a,s)\n",
    "    print(a,s) # 10, 1\n",
    "    myfunction1(); # 5,25\n",
    "    print(a,s) # 5, 1\n",
    "\n",
    "myfunction()\n"
   ]
  },
  {
   "cell_type": "code",
   "execution_count": 53,
   "metadata": {
    "tags": []
   },
   "outputs": [
    {
     "output_type": "stream",
     "name": "stdout",
     "text": "I\n"
    }
   ],
   "source": [
    "s1 = \"What is your name? My name is Rakesh.\"\n",
    "print(s1[5].capitalize())"
   ]
  },
  {
   "cell_type": "code",
   "execution_count": 3,
   "metadata": {
    "tags": []
   },
   "outputs": [
    {
     "output_type": "stream",
     "name": "stdout",
     "text": "i    n    d    i    a\n"
    }
   ],
   "source": [
    "s1 = \"i\\tn\\td\\ti\\ta\"\n",
    "print(s1.expandtabs(5))"
   ]
  },
  {
   "cell_type": "code",
   "execution_count": 14,
   "metadata": {
    "tags": []
   },
   "outputs": [
    {
     "output_type": "stream",
     "name": "stdout",
     "text": "37\n"
    }
   ],
   "source": [
    "s1 = \"India is great country in the world. great people leaves here\"\n",
    "print(s1.find(\"great\",10,42))"
   ]
  },
  {
   "cell_type": "code",
   "execution_count": 20,
   "metadata": {
    "tags": []
   },
   "outputs": [
    {
     "output_type": "stream",
     "name": "stdout",
     "text": "37 42\ngreat\n"
    }
   ],
   "source": [
    "s1 = \"India is great country in the world. great people leaves here\"\n",
    "searchstring = \"great\"\n",
    "start = s1.find(searchstring,10,42)\n",
    "end = start + len(searchstring)\n",
    "print(start,end)\n",
    "print(s1[start:end])"
   ]
  },
  {
   "cell_type": "code",
   "execution_count": 23,
   "metadata": {
    "tags": []
   },
   "outputs": [
    {
     "output_type": "stream",
     "name": "stdout",
     "text": "My name is {fname}, I'm {age}\nMy name is Aakash, I'm 36\nMy name is Shiv, I'm 42\nMy name is Aman, I'm 48\n"
    }
   ],
   "source": [
    "#named indexes:\n",
    "txt = \"My name is {fname}, I'm {age}\"\n",
    "txt1 = txt.format(fname = \"Aakash\", age = 36)\n",
    "txt2 = txt.format(fname = \"Shiv\", age = 42)\n",
    "txt3 = txt.format(fname = \"Aman\", age = 48)\n",
    "print(txt)\n",
    "print(txt1)\n",
    "print(txt2)\n",
    "print(txt3)"
   ]
  },
  {
   "cell_type": "code",
   "execution_count": null,
   "metadata": {},
   "outputs": [],
   "source": []
  }
 ]
}