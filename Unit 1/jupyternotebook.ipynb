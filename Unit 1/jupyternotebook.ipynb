{
 "metadata": {
  "language_info": {
   "codemirror_mode": {
    "name": "ipython",
    "version": 3
   },
   "file_extension": ".py",
   "mimetype": "text/x-python",
   "name": "python",
   "nbconvert_exporter": "python",
   "pygments_lexer": "ipython3",
   "version": 3
  },
  "orig_nbformat": 2,
  "kernelspec": {
   "name": "python_defaultSpec_1596771622164",
   "display_name": "Python 3.7.1 32-bit"
  }
 },
 "nbformat": 4,
 "nbformat_minor": 2,
 "cells": [
  {
   "cell_type": "code",
   "execution_count": 8,
   "metadata": {
    "tags": []
   },
   "outputs": [
    {
     "output_type": "stream",
     "name": "stdout",
     "text": "Invalid input\n"
    }
   ],
   "source": [
    "try:\n",
    "    num = int(input(\"Enter any number : \"))\n",
    "    print(\"You entered \" + str(num))\n",
    "except:\n",
    "    print(\"Invalid input, please try again\")\n"
   ]
  },
  {
   "cell_type": "code",
   "execution_count": 13,
   "metadata": {
    "tags": []
   },
   "outputs": [
    {
     "output_type": "stream",
     "name": "stdout",
     "text": "Answer is  2.0\n"
    }
   ],
   "source": [
    "try:\n",
    "    num1 = int(input(\"Enter any number : \"))\n",
    "    num2 = int(input(\"Enter any number : \"))\n",
    "    num3 = num1 / num2\n",
    "    print(\"Answer is \",num3)\n",
    "except ValueError:\n",
    "    print(\"Invalid input\")\n",
    "except ZeroDivisionError:\n",
    "    print(\"Second value can not be zero\")\n",
    "except:\n",
    "    print(\"Other error\")\n"
   ]
  },
  {
   "cell_type": "code",
   "execution_count": 1,
   "metadata": {
    "tags": []
   },
   "outputs": [
    {
     "output_type": "stream",
     "name": "stdout",
     "text": "10 1\n5 25\n10 1\n"
    }
   ],
   "source": [
    "def myfunction():\n",
    "    a = 10 # global\n",
    "    s = 1 # global\n",
    "    def myfunction1():\n",
    "        global a\n",
    "        global s\n",
    "        a = 5\n",
    "        s = a * a\n",
    "        print(a,s)\n",
    "    print(a,s) # 10, 1\n",
    "    myfunction1(); # 5,25\n",
    "    print(a,s) # 5, 1\n",
    "\n",
    "myfunction()\n"
   ]
  },
  {
   "cell_type": "code",
   "execution_count": 53,
   "metadata": {
    "tags": []
   },
   "outputs": [
    {
     "output_type": "stream",
     "name": "stdout",
     "text": "I\n"
    }
   ],
   "source": [
    "s1 = \"What is your name? My name is Rakesh.\"\n",
    "print(s1[5].capitalize())"
   ]
  },
  {
   "cell_type": "code",
   "execution_count": null,
   "metadata": {},
   "outputs": [],
   "source": []
  }
 ]
}