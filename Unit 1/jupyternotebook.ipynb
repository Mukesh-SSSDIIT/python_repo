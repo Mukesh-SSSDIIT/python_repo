{
 "metadata": {
  "language_info": {
   "codemirror_mode": {
    "name": "ipython",
    "version": 3
   },
   "file_extension": ".py",
   "mimetype": "text/x-python",
   "name": "python",
   "nbconvert_exporter": "python",
   "pygments_lexer": "ipython3",
   "version": "3.7.1-final"
  },
  "orig_nbformat": 2,
  "kernelspec": {
   "name": "python_defaultSpec_1598930299634",
   "display_name": "Python 3.7.1 32-bit"
  }
 },
 "nbformat": 4,
 "nbformat_minor": 2,
 "cells": [
  {
   "cell_type": "code",
   "execution_count": 8,
   "metadata": {
    "tags": []
   },
   "outputs": [
    {
     "output_type": "stream",
     "name": "stdout",
     "text": "Invalid input\n"
    }
   ],
   "source": [
    "try:\n",
    "    num = int(input(\"Enter any number : \"))\n",
    "    print(\"You entered \" + str(num))\n",
    "except:\n",
    "    print(\"Invalid input, please try again\")\n"
   ]
  },
  {
   "cell_type": "code",
   "execution_count": 13,
   "metadata": {
    "tags": []
   },
   "outputs": [
    {
     "output_type": "stream",
     "name": "stdout",
     "text": "Answer is  2.0\n"
    }
   ],
   "source": [
    "try:\n",
    "    num1 = int(input(\"Enter any number : \"))\n",
    "    num2 = int(input(\"Enter any number : \"))\n",
    "    num3 = num1 / num2\n",
    "    print(\"Answer is \",num3)\n",
    "except ValueError:\n",
    "    print(\"Invalid input\")\n",
    "except ZeroDivisionError:\n",
    "    print(\"Second value can not be zero\")\n",
    "except:\n",
    "    print(\"Other error\")\n"
   ]
  },
  {
   "cell_type": "code",
   "execution_count": 1,
   "metadata": {
    "tags": []
   },
   "outputs": [
    {
     "output_type": "stream",
     "name": "stdout",
     "text": "10 1\n5 25\n10 1\n"
    }
   ],
   "source": [
    "def myfunction():\n",
    "    a = 10 # global\n",
    "    s = 1 # global\n",
    "    def myfunction1():\n",
    "        global a\n",
    "        global s\n",
    "        a = 5\n",
    "        s = a * a\n",
    "        print(a,s)\n",
    "    print(a,s) # 10, 1\n",
    "    myfunction1(); # 5,25\n",
    "    print(a,s) # 5, 1\n",
    "\n",
    "myfunction()\n"
   ]
  },
  {
   "cell_type": "code",
   "execution_count": 53,
   "metadata": {
    "tags": []
   },
   "outputs": [
    {
     "output_type": "stream",
     "name": "stdout",
     "text": "I\n"
    }
   ],
   "source": [
    "s1 = \"What is your name? My name is Rakesh.\"\n",
    "print(s1[5].capitalize())"
   ]
  },
  {
   "cell_type": "code",
   "execution_count": 3,
   "metadata": {
    "tags": []
   },
   "outputs": [
    {
     "output_type": "stream",
     "name": "stdout",
     "text": "i    n    d    i    a\n"
    }
   ],
   "source": [
    "s1 = \"i\\tn\\td\\ti\\ta\"\n",
    "print(s1.expandtabs(5))"
   ]
  },
  {
   "cell_type": "code",
   "execution_count": 14,
   "metadata": {
    "tags": []
   },
   "outputs": [
    {
     "output_type": "stream",
     "name": "stdout",
     "text": "37\n"
    }
   ],
   "source": [
    "s1 = \"India is great country in the world. great people leaves here\"\n",
    "print(s1.find(\"great\",10,42))"
   ]
  },
  {
   "cell_type": "code",
   "execution_count": 20,
   "metadata": {
    "tags": []
   },
   "outputs": [
    {
     "output_type": "stream",
     "name": "stdout",
     "text": "37 42\ngreat\n"
    }
   ],
   "source": [
    "s1 = \"India is great country in the world. great people leaves here\"\n",
    "searchstring = \"great\"\n",
    "start = s1.find(searchstring,10,42)\n",
    "end = start + len(searchstring)\n",
    "print(start,end)\n",
    "print(s1[start:end])"
   ]
  },
  {
   "cell_type": "code",
   "execution_count": 1,
   "metadata": {
    "tags": []
   },
   "outputs": [
    {
     "output_type": "stream",
     "name": "stdout",
     "text": "My name is {fname}, I'm {age} year old\nMy name is Aakash, I'm 36 year old\nMy name is Shiv, I'm 42 year old\nMy name is Aman, I'm 48 year old\n"
    }
   ],
   "source": [
    "#named indexes:\n",
    "txt = \"My name is {fname}, I'm {age} year old\"\n",
    "txt1 = txt.format(fname = \"Aakash\", age = 36)\n",
    "txt2 = txt.format(fname = \"Shiv\", age = 42)\n",
    "txt3 = txt.format(fname = \"Aman\", age = 48)\n",
    "print(txt)\n",
    "print(txt1)\n",
    "print(txt2)\n",
    "print(txt3)"
   ]
  },
  {
   "cell_type": "code",
   "execution_count": 3,
   "metadata": {
    "tags": []
   },
   "outputs": [
    {
     "output_type": "stream",
     "name": "stdout",
     "text": "My name is Aakash, I'm 36 year old. Hi Aakash, you are 36 year old\n"
    }
   ],
   "source": [
    "txt = \"My name is {0}, I'm {1} year old. Hi {0}, you are {1} year old\"\n",
    "txt1 = txt.format(\"Aakash\",36)\n",
    "print(txt1)"
   ]
  },
  {
   "cell_type": "code",
   "execution_count": 6,
   "metadata": {
    "tags": []
   },
   "outputs": [
    {
     "output_type": "stream",
     "name": "stdout",
     "text": "My name is Aakash, I'm 36 year old. Hi Shiv\n"
    }
   ],
   "source": [
    "txt = \"My name is {}, I'm {} year old. Hi {}\"\n",
    "txt1 = txt.format(\"Aakash\",36, \"Shiv\")\n",
    "print(txt1)"
   ]
  },
  {
   "cell_type": "code",
   "execution_count": 17,
   "metadata": {
    "tags": []
   },
   "outputs": [
    {
     "output_type": "stream",
     "name": "stdout",
     "text": "i love      India      India is my country\n"
    }
   ],
   "source": [
    "txt = \"i love {:^15} India is my country\"\n",
    "print(txt.format(\"India\"))\n"
   ]
  },
  {
   "cell_type": "code",
   "execution_count": 71,
   "metadata": {
    "tags": []
   },
   "outputs": [
    {
     "output_type": "stream",
     "name": "stdout",
     "text": "inf\n"
    }
   ],
   "source": [
    "a = float('inf')\n",
    "txt = \"{:f}\"\n",
    "print(txt.format(a))"
   ]
  },
  {
   "cell_type": "code",
   "execution_count": 12,
   "metadata": {
    "tags": []
   },
   "outputs": [
    {
     "output_type": "stream",
     "name": "stdout",
     "text": "The octal version of 14 is e\n"
    }
   ],
   "source": [
    "txt = \"The octal version of {0} is {0:x}\"\n",
    "\n",
    "print(txt.format(14))"
   ]
  },
  {
   "cell_type": "code",
   "execution_count": 7,
   "metadata": {
    "tags": []
   },
   "outputs": [
    {
     "output_type": "stream",
     "name": "stdout",
     "text": "You scored 500.00%\n"
    }
   ],
   "source": [
    "txt = \"You scored {:.2%}\"\n",
    "print(txt.format(5))"
   ]
  },
  {
   "cell_type": "code",
   "execution_count": 14,
   "metadata": {
    "tags": []
   },
   "outputs": [
    {
     "output_type": "stream",
     "name": "stdout",
     "text": "15\n"
    }
   ],
   "source": [
    "txt = \"Hello, welcome to my world.\"\n",
    "x = txt.index(\"to\")\n",
    "print(x)"
   ]
  },
  {
   "cell_type": "code",
   "execution_count": 48,
   "metadata": {
    "tags": []
   },
   "outputs": [
    {
     "output_type": "stream",
     "name": "stdout",
     "text": "True\n"
    }
   ],
   "source": [
    "txt = \"abc_123\"\n",
    "x = txt.islower()\n",
    "print(x)"
   ]
  },
  {
   "cell_type": "code",
   "execution_count": 55,
   "metadata": {
    "tags": []
   },
   "outputs": [
    {
     "output_type": "stream",
     "name": "stdout",
     "text": "True\n"
    }
   ],
   "source": [
    "txt = \"Hello Friends How Are You\"\n",
    "x = txt.istitle()\n",
    "print(x)"
   ]
  },
  {
   "cell_type": "code",
   "execution_count": 58,
   "metadata": {
    "tags": []
   },
   "outputs": [
    {
     "output_type": "stream",
     "name": "stdout",
     "text": "True\n"
    }
   ],
   "source": [
    "txt = \"1234\"\n",
    "x = txt.isnumeric()\n",
    "print(x)"
   ]
  },
  {
   "cell_type": "code",
   "execution_count": 63,
   "metadata": {
    "tags": []
   },
   "outputs": [
    {
     "output_type": "stream",
     "name": "stdout",
     "text": "ABC\t1234\nFalse\n"
    }
   ],
   "source": [
    "txt = \"ABC\\t1234\"\n",
    "print(txt)\n",
    "x = txt.isprintable()\n",
    "print(x)"
   ]
  },
  {
   "cell_type": "code",
   "execution_count": 65,
   "metadata": {
    "tags": []
   },
   "outputs": [
    {
     "output_type": "stream",
     "name": "stdout",
     "text": "True\n"
    }
   ],
   "source": [
    "txt = \"   \"\n",
    "x = txt.isspace()\n",
    "print(x)"
   ]
  },
  {
   "cell_type": "code",
   "execution_count": 73,
   "metadata": {
    "tags": []
   },
   "outputs": [
    {
     "output_type": "stream",
     "name": "stdout",
     "text": "John-Peter-Vicky\n"
    }
   ],
   "source": [
    "myValues= [\"John\", \"Peter\", \"Vicky\"]\n",
    "myseparator = \"-\"\n",
    "x = myseparator.join(myValues)\n",
    "print(x)"
   ]
  },
  {
   "cell_type": "code",
   "execution_count": 74,
   "metadata": {
    "tags": []
   },
   "outputs": [
    {
     "output_type": "stream",
     "name": "stdout",
     "text": "banana               is my favorite fruit.\n"
    }
   ],
   "source": [
    "txt = \"banana\"\n",
    "x = txt.ljust(20)\n",
    "print(x, \"is my favorite fruit.\")"
   ]
  },
  {
   "cell_type": "code",
   "execution_count": null,
   "metadata": {},
   "outputs": [],
   "source": []
  }
 ]
}