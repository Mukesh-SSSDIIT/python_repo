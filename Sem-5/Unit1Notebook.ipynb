{
 "metadata": {
  "language_info": {
   "codemirror_mode": {
    "name": "ipython",
    "version": 3
   },
   "file_extension": ".py",
   "mimetype": "text/x-python",
   "name": "python",
   "nbconvert_exporter": "python",
   "pygments_lexer": "ipython3",
   "version": "3.7.1-final"
  },
  "orig_nbformat": 2,
  "kernelspec": {
   "name": "Python 3.7.1 32-bit",
   "display_name": "Python 3.7.1 32-bit",
   "metadata": {
    "interpreter": {
     "hash": "aa1da42354cd779ba75ac07151fffc8930d4d1d3e4b5756604fdbf74e4184023"
    }
   }
  }
 },
 "nbformat": 4,
 "nbformat_minor": 2,
 "cells": [
  {
   "cell_type": "code",
   "execution_count": 1,
   "metadata": {
    "tags": []
   },
   "outputs": [
    {
     "output_type": "stream",
     "name": "stdout",
     "text": "0\n1\n2\n3\n4\n"
    }
   ],
   "source": [
    "for i in range(5):\n",
    "    print(i)"
   ]
  },
  {
   "cell_type": "code",
   "execution_count": 61,
   "metadata": {
    "tags": []
   },
   "outputs": [
    {
     "output_type": "stream",
     "name": "stdout",
     "text": "I love my Bharat, Bharat is my country, You also love India\n"
    }
   ],
   "source": [
    "import re\n",
    "txt = \"I love my India, India is my country, You also love India\"\n",
    "x = re.sub(\"India\",\"Bharat\", txt,2)\n",
    "print(x)\n"
   ]
  },
  {
   "cell_type": "code",
   "execution_count": 6,
   "metadata": {
    "tags": []
   },
   "outputs": [
    {
     "output_type": "stream",
     "name": "stdout",
     "text": "[&#39;India&#39;, &#39;India&#39;, &#39;India&#39;]\n[&#39;India&#39;]\n"
    }
   ],
   "source": [
    "import re\n",
    "txt = \"I love my India, India is my country, You also love India\"\n",
    "obj = re.compile(\"india\",re.IGNORECASE)\n",
    "lst = obj.findall(txt)\n",
    "lst1 = obj.findall(\"India is great\")\n",
    "print(lst)\n",
    "print(lst1)"
   ]
  },
  {
   "cell_type": "code",
   "execution_count": 146,
   "metadata": {
    "tags": []
   },
   "outputs": [
    {
     "output_type": "stream",
     "name": "stdout",
     "text": "Sat Jul 19 06:41:01 2014::ujewi@eivlrlpxa.gov::1405732261-5-9\nSat May 13 17:18:30 2017::pgbqq@gszwnsmeren.edu::1494676110-5-11\nThu Jan 11 13:57:55 2035::phzgj@pvbouftwzhei.org::2052116875-5-12\nFri Jan 12 00:41:30 2035::tsam@fpkqfgub.gov::2052155490-4-8\nTue Feb 24 15:38:49 2026::sdswgy@tmsawfa.gov::1771927729-6-7\nTue May 18 19:44:41 2010::neyd@ggykepnhgi.edu::1274192081-4-10\n"
    }
   ],
   "source": [
    "from random import randrange, choice\n",
    "from sys import maxsize\n",
    "from time import ctime\n",
    "from string import ascii_lowercase as lc\n",
    "tlds = ('com', 'edu', 'net', 'org', 'gov')\n",
    "for i in range(randrange(4, 8)):\n",
    "    dtint = randrange(maxsize)\n",
    "    dtstr = ctime(dtint)\n",
    "    llen = randrange(4, 8)\n",
    "    login = ''.join(choice(lc) for j in range(llen))\n",
    "    dlen = randrange(llen, 13)\n",
    "    dom = ''.join(choice(lc) for j in range(dlen))\n",
    "    print ('%s::%s@%s.%s::%d-%d-%d' % (dtstr, login,dom, choice(tlds), dtint, llen, dlen))"
   ]
  },
  {
   "cell_type": "code",
   "execution_count": null,
   "metadata": {},
   "outputs": [],
   "source": []
  }
 ]
}